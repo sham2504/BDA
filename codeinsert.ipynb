{
 "cells": [
  {
   "cell_type": "code",
   "execution_count": 1,
   "id": "fa53c540",
   "metadata": {},
   "outputs": [],
   "source": [
    "import csv\n",
    "import json\n",
    "import pandas as pd\n",
    "import sys, getopt, pprint\n",
    "from pymongo import MongoClient\n",
    "#CSV to JSON Conversion\n",
    "csvfile = open('Iris.csv', 'r')\n",
    "reader = csv.DictReader( csvfile )\n",
    "mongo_client=MongoClient() \n",
    "db=mongo_client.Iris\n",
    "db.segment.drop()\n",
    "header= [\"Id\", \"SepalLengthCm\", \"SepalWidthCm\", \"PetalLengthCm\", \"PetalWidthCm\", \"Species\"]\n",
    "\n",
    "for each in reader:\n",
    "    row={}\n",
    "    for field in header:\n",
    "        row[field]=each[field]\n",
    "\n",
    "    db.segment.insert_one(row)"
   ]
  },
  {
   "cell_type": "code",
   "execution_count": null,
   "id": "e7b6fdcb",
   "metadata": {},
   "outputs": [],
   "source": []
  }
 ],
 "metadata": {
  "kernelspec": {
   "display_name": "Python 3 (ipykernel)",
   "language": "python",
   "name": "python3"
  },
  "language_info": {
   "codemirror_mode": {
    "name": "ipython",
    "version": 3
   },
   "file_extension": ".py",
   "mimetype": "text/x-python",
   "name": "python",
   "nbconvert_exporter": "python",
   "pygments_lexer": "ipython3",
   "version": "3.9.7"
  }
 },
 "nbformat": 4,
 "nbformat_minor": 5
}
